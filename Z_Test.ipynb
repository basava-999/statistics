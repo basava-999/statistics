{
  "nbformat": 4,
  "nbformat_minor": 0,
  "metadata": {
    "colab": {
      "provenance": [],
      "collapsed_sections": [
        "K-5Gf48h6KGr",
        "XGbDK32H8Mx9",
        "0RqZr0Wn-4Wc",
        "5H2fAuw5AuBR",
        "oRBRjJ3UBzhm",
        "_p9QDvyACyN8",
        "r60DtNIQE1J-",
        "99biafjPGbYE"
      ],
      "authorship_tag": "ABX9TyP2IpPs6JngnqdLmg4xlQQF",
      "include_colab_link": true
    },
    "kernelspec": {
      "name": "python3",
      "display_name": "Python 3"
    },
    "language_info": {
      "name": "python"
    }
  },
  "cells": [
    {
      "cell_type": "markdown",
      "metadata": {
        "id": "view-in-github",
        "colab_type": "text"
      },
      "source": [
        "<a href=\"https://colab.research.google.com/github/basava-999/statistics/blob/main/Z_Test.ipynb\" target=\"_parent\"><img src=\"https://colab.research.google.com/assets/colab-badge.svg\" alt=\"Open In Colab\"/></a>"
      ]
    },
    {
      "cell_type": "code",
      "execution_count": 1,
      "metadata": {
        "id": "V-3hK06Uuojc"
      },
      "outputs": [],
      "source": [
        "\n",
        "import numpy as np\n",
        "\n",
        "from scipy import stats"
      ]
    },
    {
      "cell_type": "markdown",
      "source": [
        "**1. Introduction to the Z-Test**\n",
        "\n",
        "The Z-test is a parametric statistical test used to determine whether there is a significant difference between:\n",
        "\n",
        "- a sample mean and a population mean, or\n",
        "two sample means,\n",
        "when the population variance is known (or the sample size is large enough, usually\n",
        "𝑛\n",
        "≥\n",
        "30\n",
        ").\n",
        "\n",
        "- It is based on the Z-distribution, which is the standard normal distribution:\n",
        "𝑍\n",
        "∼\n",
        "𝑁\n",
        "(\n",
        "0\n",
        ",\n",
        "1\n",
        ")"
      ],
      "metadata": {
        "id": "Mzk2JhE4wtQK"
      }
    },
    {
      "cell_type": "markdown",
      "source": [
        "**2. General Idea**\n",
        "\n",
        "We calculate a Z statistic:\n",
        "\n",
        "𝑍\n",
        "=\n",
        "( Observed Statistic\n",
        "−\n",
        "Expected Value ) /\n",
        "Standard Error\n",
        "\n",
        "and compare it to the critical Z value from the standard normal table or use it to compute a p-value."
      ],
      "metadata": {
        "id": "nTSLByOg5I1G"
      }
    },
    {
      "cell_type": "markdown",
      "source": [
        "**3. Assumptions**\n",
        "\n",
        "- Data follows normal distribution (or\n",
        "𝑛\n",
        "≥\n",
        "30, CLT applies)\n",
        "\n",
        "- Data is measured on an interval/ratio scale\n",
        "\n",
        "- Independence of observations\n",
        "\n",
        "- Population variance (\n",
        "𝜎\n",
        "2\n",
        ") is known (or estimated from large samples)"
      ],
      "metadata": {
        "id": "r7vYz2bf5mL_"
      }
    },
    {
      "cell_type": "markdown",
      "source": [
        "**4. Hypothesis**\n",
        "\n",
        "H0 : No difference\n",
        "\n",
        "H1 : Significant Difference"
      ],
      "metadata": {
        "id": "E1cDQROP500k"
      }
    },
    {
      "cell_type": "markdown",
      "source": [
        "# **1 sample Z Test**"
      ],
      "metadata": {
        "id": "D9OaNUJP5_aK"
      }
    },
    {
      "cell_type": "markdown",
      "source": [
        "#### **Test Calculation**"
      ],
      "metadata": {
        "id": "K-5Gf48h6KGr"
      }
    },
    {
      "cell_type": "markdown",
      "source": [
        "$$\n",
        "Z = \\frac{\\bar{X} - \\mu_0}{\\sigma / \\sqrt{n}}$$"
      ],
      "metadata": {
        "id": "WdixEW6a6v3A"
      }
    },
    {
      "cell_type": "markdown",
      "source": [
        "**Data**"
      ],
      "metadata": {
        "id": "LLifol6C6QGy"
      }
    },
    {
      "cell_type": "code",
      "source": [
        "\n",
        "pop_mean = 68\n",
        "pop_std  = 5\n",
        "\n",
        "data = np.random.normal( 65, 6, 1000)\n",
        "sample_mean = np.mean(data)\n",
        "n = len(data)\n",
        "\n",
        "print( f'Sample Mean: {sample_mean}')\n",
        "print( f'Sample Size: {n}')"
      ],
      "metadata": {
        "colab": {
          "base_uri": "https://localhost:8080/"
        },
        "id": "JSkiolPnwAHs",
        "outputId": "1eae9fa5-dc2c-435a-fa9e-7bc62fbb6ab4"
      },
      "execution_count": 3,
      "outputs": [
        {
          "output_type": "stream",
          "name": "stdout",
          "text": [
            "Sample Mean: 64.88599415622453\n",
            "Sample Size: 1000\n"
          ]
        }
      ]
    },
    {
      "cell_type": "markdown",
      "source": [
        "**Test Statistic**"
      ],
      "metadata": {
        "id": "rIq0vP506_mc"
      }
    },
    {
      "cell_type": "code",
      "source": [
        "\n",
        "z = (sample_mean - pop_mean) / ( pop_std / np.sqrt( n))\n",
        "\n",
        "print(f'Z Statistic: {z}')"
      ],
      "metadata": {
        "colab": {
          "base_uri": "https://localhost:8080/"
        },
        "id": "ttapwT9r6923",
        "outputId": "d964923f-1330-44b1-d82a-6c6d4421ceaa"
      },
      "execution_count": 4,
      "outputs": [
        {
          "output_type": "stream",
          "name": "stdout",
          "text": [
            "Z Statistic: -19.694702226809927\n"
          ]
        }
      ]
    },
    {
      "cell_type": "code",
      "source": [],
      "metadata": {
        "id": "CwrJ4k4d7T12"
      },
      "execution_count": null,
      "outputs": []
    },
    {
      "cell_type": "markdown",
      "source": [
        "**Critical Value**"
      ],
      "metadata": {
        "id": "E4759LGN7WtO"
      }
    },
    {
      "cell_type": "code",
      "source": [
        "\n",
        "critical = stats.norm.ppf( 1 - .05)\n",
        "print( f'Critical Value: {critical}')"
      ],
      "metadata": {
        "colab": {
          "base_uri": "https://localhost:8080/"
        },
        "id": "O_snoeee7ZG1",
        "outputId": "d96b5638-3e4c-4e1f-f768-ee3519ab9d9b"
      },
      "execution_count": 7,
      "outputs": [
        {
          "output_type": "stream",
          "name": "stdout",
          "text": [
            "Critical Value: 1.6448536269514722\n"
          ]
        }
      ]
    },
    {
      "cell_type": "markdown",
      "source": [
        "**P value**"
      ],
      "metadata": {
        "id": "FkhMnpmE7n_c"
      }
    },
    {
      "cell_type": "code",
      "source": [
        "\n",
        "p = 2 * ( 1 - stats.norm.cdf( abs(z)))\n",
        "print( f'P Value: {p}')"
      ],
      "metadata": {
        "colab": {
          "base_uri": "https://localhost:8080/"
        },
        "id": "LU8NhvNW7fCJ",
        "outputId": "630b7140-8931-4774-be96-88fba383a474"
      },
      "execution_count": 9,
      "outputs": [
        {
          "output_type": "stream",
          "name": "stdout",
          "text": [
            "P Value: 0.0\n"
          ]
        }
      ]
    },
    {
      "cell_type": "markdown",
      "source": [
        "- |z| > critical value\n",
        "- p < LOS\n",
        "\n",
        "- Reject H0"
      ],
      "metadata": {
        "id": "zT0258D178OO"
      }
    },
    {
      "cell_type": "markdown",
      "source": [
        "#### **Effect Size**"
      ],
      "metadata": {
        "id": "XGbDK32H8Mx9"
      }
    },
    {
      "cell_type": "markdown",
      "source": [
        "$$\n",
        "d = \\frac{\\bar{X} - \\mu_0}{\\sigma}\n",
        "$$"
      ],
      "metadata": {
        "id": "iohnc6jf8X3t"
      }
    },
    {
      "cell_type": "code",
      "source": [
        "\n",
        "d = ( sample_mean - pop_mean) / pop_std\n",
        "print( f'Effect Size: {d}')"
      ],
      "metadata": {
        "colab": {
          "base_uri": "https://localhost:8080/"
        },
        "id": "YD7BfEfk7v51",
        "outputId": "29ad3045-946b-4058-bc45-33763e2d2e02"
      },
      "execution_count": 10,
      "outputs": [
        {
          "output_type": "stream",
          "name": "stdout",
          "text": [
            "Effect Size: -0.6228011687550946\n"
          ]
        }
      ]
    },
    {
      "cell_type": "markdown",
      "source": [
        "**Moderate to strong**"
      ],
      "metadata": {
        "id": "eLAJS8OF8ezM"
      }
    },
    {
      "cell_type": "markdown",
      "source": [
        "# **2 Sample Z Test**"
      ],
      "metadata": {
        "id": "59swIhgl8ivh"
      }
    },
    {
      "cell_type": "markdown",
      "source": [
        "#### **Test Calculation**"
      ],
      "metadata": {
        "id": "0RqZr0Wn-4Wc"
      }
    },
    {
      "cell_type": "markdown",
      "source": [
        "\n",
        "$$\n",
        "Z = \\frac{\\bar{X}_1 - \\bar{X}_2}{\\sqrt{\\frac{\\sigma_1^2}{n_1} + \\frac{\\sigma_2^2}{n_2}}}\n",
        "$$"
      ],
      "metadata": {
        "id": "ueOyqxhR-8zq"
      }
    },
    {
      "cell_type": "markdown",
      "source": [
        "**Data**"
      ],
      "metadata": {
        "id": "jpmy0TS9_sqi"
      }
    },
    {
      "cell_type": "code",
      "source": [
        "\n",
        "sample_1 = np.random.normal( 65, 7, 1000)\n",
        "sample_2 = np.random.normal( 68, 6, 1000)\n",
        "\n",
        "sample_mean_1 = np.mean(sample_1)\n",
        "sample_mean_2 = np.mean(sample_2)\n",
        "\n",
        "sample_var_1 = np.var(sample_1)\n",
        "sample_var_2 = np.var(sample_2)\n",
        "\n",
        "n_1 = len(sample_1)\n",
        "n_2 = len(sample_2)\n",
        "\n",
        "print( f'Sample 1 Mean: {sample_mean_1}')\n",
        "print( f'Sample 2 Mean: {sample_mean_2}\\n')\n",
        "\n",
        "print( f'Sample 1 Variance: {sample_var_1}')\n",
        "print( f'Sample 2 Variance: {sample_var_2}\\n')\n",
        "\n",
        "print( f'Sample 1 Size: {n_1}')\n",
        "print( f'Sample 2 Size: {n_2}')\n",
        "\n",
        "\n",
        "\n"
      ],
      "metadata": {
        "colab": {
          "base_uri": "https://localhost:8080/"
        },
        "id": "NQWYRUyT8dgN",
        "outputId": "052299cc-6516-473f-a9c3-12c72c4fba76"
      },
      "execution_count": 11,
      "outputs": [
        {
          "output_type": "stream",
          "name": "stdout",
          "text": [
            "Sample 1 Mean: 65.01262314746077\n",
            "Sample 2 Mean: 67.81066934344271\n",
            "\n",
            "Sample 1 Variance: 51.84357560656173\n",
            "Sample 2 Variance: 37.39132238691258\n",
            "\n",
            "Sample 1 Size: 1000\n",
            "Sample 2 Size: 1000\n"
          ]
        }
      ]
    },
    {
      "cell_type": "markdown",
      "source": [
        "**Test Statistic**"
      ],
      "metadata": {
        "id": "MyMmT7G8AINt"
      }
    },
    {
      "cell_type": "code",
      "source": [
        "\n",
        "z = ( sample_mean_1 - sample_mean_2) / np.sqrt( sample_var_1 / n_1 + sample_var_2 / n_2)\n",
        "\n",
        "print( f'Z Statistic: {z}')"
      ],
      "metadata": {
        "colab": {
          "base_uri": "https://localhost:8080/"
        },
        "id": "DDretlHX_Piy",
        "outputId": "52c50ba6-be37-4386-ee0b-400b1a1a836c"
      },
      "execution_count": 12,
      "outputs": [
        {
          "output_type": "stream",
          "name": "stdout",
          "text": [
            "Z Statistic: -9.366719496614918\n"
          ]
        }
      ]
    },
    {
      "cell_type": "markdown",
      "source": [
        "**Critical Value**"
      ],
      "metadata": {
        "id": "NVVyW6d6AOTe"
      }
    },
    {
      "cell_type": "code",
      "source": [
        "\n",
        "critical = stats.norm.ppf( 1 - .05/2)\n",
        "print( f'Critical Value: {critical}')"
      ],
      "metadata": {
        "colab": {
          "base_uri": "https://localhost:8080/"
        },
        "id": "5Ddg1pXnANCi",
        "outputId": "6aeae74a-c52f-414d-9d4e-8d65356e6d1f"
      },
      "execution_count": 30,
      "outputs": [
        {
          "output_type": "stream",
          "name": "stdout",
          "text": [
            "Critical Value: 1.959963984540054\n"
          ]
        }
      ]
    },
    {
      "cell_type": "markdown",
      "source": [
        "**P value**"
      ],
      "metadata": {
        "id": "s3LBLUwgAXrG"
      }
    },
    {
      "cell_type": "code",
      "source": [
        "\n",
        "p = 2 * ( 1 - stats.norm.cdf( abs(z)))\n",
        "print( f'P Value: {p}')"
      ],
      "metadata": {
        "colab": {
          "base_uri": "https://localhost:8080/"
        },
        "id": "mWkqRwL4AWiq",
        "outputId": "2a42a286-5773-4c84-872f-cfc43b499e17"
      },
      "execution_count": 14,
      "outputs": [
        {
          "output_type": "stream",
          "name": "stdout",
          "text": [
            "P Value: 0.0\n"
          ]
        }
      ]
    },
    {
      "cell_type": "markdown",
      "source": [
        "- |z| > critical value\n",
        "- p < LOS ( 0.05 )\n",
        "- Reject H0"
      ],
      "metadata": {
        "id": "hoEtPIBZAhaq"
      }
    },
    {
      "cell_type": "markdown",
      "source": [
        "#### **Effect Size**"
      ],
      "metadata": {
        "id": "5H2fAuw5AuBR"
      }
    },
    {
      "cell_type": "markdown",
      "source": [
        "$$\n",
        "d = \\frac{\\bar{X}_1 - \\bar{X}_2}{\\sqrt{\\frac{\\sigma_1^2 + \\sigma_2^2}{2}}} $$"
      ],
      "metadata": {
        "id": "yyZQ12ReA9DR"
      }
    },
    {
      "cell_type": "code",
      "source": [
        "\n",
        "d = ( sample_mean_1 - sample_mean_2) / np.sqrt( ( sample_var_1 + sample_var_2) / 2)\n",
        "print( f'Effect Size: {d}')\n"
      ],
      "metadata": {
        "colab": {
          "base_uri": "https://localhost:8080/"
        },
        "id": "w9WuNtzbAgB9",
        "outputId": "44e2d52b-2d6d-4769-e48e-58e0681ffb74"
      },
      "execution_count": 15,
      "outputs": [
        {
          "output_type": "stream",
          "name": "stdout",
          "text": [
            "Effect Size: -0.4188924304120713\n"
          ]
        }
      ]
    },
    {
      "cell_type": "markdown",
      "source": [
        "**Moderate**"
      ],
      "metadata": {
        "id": "UNlvEUmfBGd8"
      }
    },
    {
      "cell_type": "code",
      "source": [],
      "metadata": {
        "id": "iVbGjoa9BDnl"
      },
      "execution_count": null,
      "outputs": []
    },
    {
      "cell_type": "markdown",
      "source": [
        "# **Proportion 1  Sample Z Test**"
      ],
      "metadata": {
        "id": "LtNkUipxBozJ"
      }
    },
    {
      "cell_type": "markdown",
      "source": [
        "#### **Test Calculation**"
      ],
      "metadata": {
        "id": "oRBRjJ3UBzhm"
      }
    },
    {
      "cell_type": "markdown",
      "source": [
        "$$\n",
        "z = \\frac{\\hat{p} - p_0}{\\sqrt{\\frac{p_0(1-p_0)}{n}}}\n",
        "$$"
      ],
      "metadata": {
        "id": "-wi2FxuVB4Nz"
      }
    },
    {
      "cell_type": "markdown",
      "source": [
        "**Data**"
      ],
      "metadata": {
        "id": "LsC-waCEB8Zz"
      }
    },
    {
      "cell_type": "code",
      "source": [
        "\n",
        "sample_p = .65\n",
        "pop_p    = .7\n",
        "pop_n    = 1 - pop_p\n",
        "n        = 1000\n",
        "\n",
        "print( f'Sample Proportion    : {sample_p}')\n",
        "print( f'Population Proportion: {pop_p}')\n",
        "print( f'Sample Size          : {n}')"
      ],
      "metadata": {
        "colab": {
          "base_uri": "https://localhost:8080/"
        },
        "id": "ouEboBARByMs",
        "outputId": "c521a5df-d428-44f2-85c1-a261326e2133"
      },
      "execution_count": 18,
      "outputs": [
        {
          "output_type": "stream",
          "name": "stdout",
          "text": [
            "Sample Proportion    : 0.65\n",
            "Population Proportion: 0.7\n",
            "Sample Size          : 1000\n"
          ]
        }
      ]
    },
    {
      "cell_type": "markdown",
      "source": [
        "**Statistic**"
      ],
      "metadata": {
        "id": "8WAIJqrQCOA-"
      }
    },
    {
      "cell_type": "code",
      "source": [
        "\n",
        "z = ( sample_p - pop_p) / np.sqrt( ( pop_p * pop_n) / n)\n",
        "print( f'Z Statistic: {z}')"
      ],
      "metadata": {
        "colab": {
          "base_uri": "https://localhost:8080/"
        },
        "id": "ztWG7OW4CKPV",
        "outputId": "205a4f65-8be3-4c66-ac84-5bb5fa8ad7ec"
      },
      "execution_count": 19,
      "outputs": [
        {
          "output_type": "stream",
          "name": "stdout",
          "text": [
            "Z Statistic: -3.4503277967117665\n"
          ]
        }
      ]
    },
    {
      "cell_type": "markdown",
      "source": [
        "**Critical Value**"
      ],
      "metadata": {
        "id": "MUIIDiz0CfMR"
      }
    },
    {
      "cell_type": "code",
      "source": [
        "\n",
        "critical = stats.norm.ppf( 1 - .05 / 2)\n",
        "print( f'Critical Value: {critical}')"
      ],
      "metadata": {
        "colab": {
          "base_uri": "https://localhost:8080/"
        },
        "id": "G6yLXusBCdz3",
        "outputId": "34119cf7-b36d-4025-deda-6597b978872f"
      },
      "execution_count": 29,
      "outputs": [
        {
          "output_type": "stream",
          "name": "stdout",
          "text": [
            "Critical Value: 1.959963984540054\n"
          ]
        }
      ]
    },
    {
      "cell_type": "markdown",
      "source": [
        "**P Value**"
      ],
      "metadata": {
        "id": "aqisLTdyCj2A"
      }
    },
    {
      "cell_type": "code",
      "source": [
        "\n",
        "p = 2 * ( 1 - stats.norm.cdf( abs(z)))\n",
        "print( f'P Value: {p}')"
      ],
      "metadata": {
        "colab": {
          "base_uri": "https://localhost:8080/"
        },
        "id": "8kJ1-xqnCjFx",
        "outputId": "9d2dec12-e574-4ab5-8c48-e3f5d0e769e6"
      },
      "execution_count": 21,
      "outputs": [
        {
          "output_type": "stream",
          "name": "stdout",
          "text": [
            "P Value: 0.0005599062480061701\n"
          ]
        }
      ]
    },
    {
      "cell_type": "markdown",
      "source": [
        "- |z| > critical value\n",
        "- p < LOS\n",
        "- Reject H0"
      ],
      "metadata": {
        "id": "acVsZLIlCoEl"
      }
    },
    {
      "cell_type": "markdown",
      "source": [
        "**In-Built**"
      ],
      "metadata": {
        "id": "LepfbGnUEHR6"
      }
    },
    {
      "cell_type": "code",
      "source": [
        "from statsmodels.stats.proportion import proportions_ztest\n",
        "\n",
        "z, p = proportions_ztest( n * sample_p, n, pop_p)\n",
        "print( f'Z Statistic: {z}')\n",
        "print( f'P Value: {p}')"
      ],
      "metadata": {
        "colab": {
          "base_uri": "https://localhost:8080/"
        },
        "id": "1AvUT9yAEJ21",
        "outputId": "d7241fe5-3ef3-4b0c-80a6-2f271924e1c3"
      },
      "execution_count": 25,
      "outputs": [
        {
          "output_type": "stream",
          "name": "stdout",
          "text": [
            "Z Statistic: -3.314967720658975\n",
            "P Value: 0.0009165370761145487\n"
          ]
        }
      ]
    },
    {
      "cell_type": "markdown",
      "source": [
        "#### **Effect Size**"
      ],
      "metadata": {
        "id": "_p9QDvyACyN8"
      }
    },
    {
      "cell_type": "markdown",
      "source": [
        "$$h = 2 \\cdot \\arcsin(\\sqrt{\\hat{p}}) - 2 \\cdot \\arcsin(\\sqrt{p_0})$$"
      ],
      "metadata": {
        "id": "jsSaLUtcC2N5"
      }
    },
    {
      "cell_type": "code",
      "source": [
        "\n",
        "h = 2 * np.arcsin( np.sqrt( sample_p)) - 2 * np.arcsin( np.sqrt( pop_p))\n",
        "print( f'Effect Size: {h}')"
      ],
      "metadata": {
        "colab": {
          "base_uri": "https://localhost:8080/"
        },
        "id": "34s-tQoBCmxG",
        "outputId": "693a92be-82a9-4460-b53c-5e4d7b84c4c1"
      },
      "execution_count": 22,
      "outputs": [
        {
          "output_type": "stream",
          "name": "stdout",
          "text": [
            "Effect Size: -0.10682419205209026\n"
          ]
        }
      ]
    },
    {
      "cell_type": "markdown",
      "source": [
        "**Very small**"
      ],
      "metadata": {
        "id": "j-9lPioEDnTV"
      }
    },
    {
      "cell_type": "markdown",
      "source": [
        "# **Proportion 2 Sample z TEst**"
      ],
      "metadata": {
        "id": "rnkLoUFREwnN"
      }
    },
    {
      "cell_type": "markdown",
      "source": [
        "####**Test Calculations**"
      ],
      "metadata": {
        "id": "r60DtNIQE1J-"
      }
    },
    {
      "cell_type": "markdown",
      "source": [
        "$$z = \\frac{\\hat{p}_1 - \\hat{p}_2}{\\sqrt{\\hat{p}(1 - \\hat{p})\\left(\\frac{1}{n_1} + \\frac{1}{n_2}\\right)}}$$"
      ],
      "metadata": {
        "id": "-TwK_KLbFNOJ"
      }
    },
    {
      "cell_type": "markdown",
      "source": [
        "**Data**"
      ],
      "metadata": {
        "id": "MJVyjaqvE4dJ"
      }
    },
    {
      "cell_type": "code",
      "source": [
        "\n",
        "sample_1_p = .65\n",
        "sample_2_p = .7\n",
        "\n",
        "n_1 = 1000\n",
        "n_2 = 1000\n",
        "\n",
        "p = ( sample_1_p * n_1 + sample_2_p * n_2) / ( n_1 + n_2)\n",
        "q = 1 - p\n",
        "\n",
        "print( f'Sample 1 Proportion: {sample_1_p}')\n",
        "print( f'Sample 2 Proportion: {sample_2_p}\\n')\n",
        "\n",
        "print( f'Sample 1 Size: {n_1}')\n",
        "print( f'Sample 2 Size: {n_2}\\n')\n",
        "\n",
        "print( f'p: {p}')\n",
        "print( f'q: {q}')\n"
      ],
      "metadata": {
        "colab": {
          "base_uri": "https://localhost:8080/"
        },
        "id": "aJbPGVPxDQQP",
        "outputId": "c32e06ce-4dde-410c-8024-f0f314a5a02f"
      },
      "execution_count": 26,
      "outputs": [
        {
          "output_type": "stream",
          "name": "stdout",
          "text": [
            "Sample 1 Proportion: 0.65\n",
            "Sample 2 Proportion: 0.7\n",
            "\n",
            "Sample 1 Size: 1000\n",
            "Sample 2 Size: 1000\n",
            "\n",
            "p: 0.675\n",
            "q: 0.32499999999999996\n"
          ]
        }
      ]
    },
    {
      "cell_type": "markdown",
      "source": [
        "**Statistic**"
      ],
      "metadata": {
        "id": "4FxBj21NFsE9"
      }
    },
    {
      "cell_type": "code",
      "source": [
        "\n",
        "z = ( sample_1_p - sample_2_p) / np.sqrt( p * q * ( 1 / n_1 + 1 / n_2))\n",
        "print( f'Z Statistic: {z}')\n"
      ],
      "metadata": {
        "colab": {
          "base_uri": "https://localhost:8080/"
        },
        "id": "LCFo4nLoFpqe",
        "outputId": "9349af1b-5de1-45d6-909b-610c678a80de"
      },
      "execution_count": 27,
      "outputs": [
        {
          "output_type": "stream",
          "name": "stdout",
          "text": [
            "Z Statistic: -2.38704958013144\n"
          ]
        }
      ]
    },
    {
      "cell_type": "markdown",
      "source": [
        "**Critical Value**"
      ],
      "metadata": {
        "id": "4bJLHFUAFxk3"
      }
    },
    {
      "cell_type": "code",
      "source": [
        "\n",
        "critical = stats.norm.ppf( 1 - .05/2)\n",
        "print( f'Critical Value: {critical}')"
      ],
      "metadata": {
        "colab": {
          "base_uri": "https://localhost:8080/"
        },
        "id": "z0cyexzgFwod",
        "outputId": "9c7b0548-9af5-4b3c-bd56-7ac282972ef2"
      },
      "execution_count": 28,
      "outputs": [
        {
          "output_type": "stream",
          "name": "stdout",
          "text": [
            "Critical Value: 1.959963984540054\n"
          ]
        }
      ]
    },
    {
      "cell_type": "markdown",
      "source": [
        "**P Value**"
      ],
      "metadata": {
        "id": "HLnrtsSUGLhI"
      }
    },
    {
      "cell_type": "code",
      "source": [
        "\n",
        "p = 2 * ( 1 - stats.norm.cdf( abs(z)))\n",
        "print( f'P Value: {p}')"
      ],
      "metadata": {
        "colab": {
          "base_uri": "https://localhost:8080/"
        },
        "id": "sfE60TapF7Dw",
        "outputId": "a26b8047-0d04-4cf3-a93d-e1f1e2cee328"
      },
      "execution_count": 31,
      "outputs": [
        {
          "output_type": "stream",
          "name": "stdout",
          "text": [
            "P Value: 0.016984200582130793\n"
          ]
        }
      ]
    },
    {
      "cell_type": "markdown",
      "source": [
        "- |z| > critical value\n",
        "- p < LOS\n",
        "- Reject H0"
      ],
      "metadata": {
        "id": "5BGuRfmnGRuv"
      }
    },
    {
      "cell_type": "markdown",
      "source": [
        "**In Built**"
      ],
      "metadata": {
        "id": "acZvlcMKHi78"
      }
    },
    {
      "cell_type": "code",
      "source": [
        "\n",
        "z, p = proportions_ztest( [n_1 * sample_1_p, n_2 * sample_2_p], [n_1, n_2])\n",
        "print( f'Z Statistic: {z}')\n",
        "print( f'P Value: {p}')"
      ],
      "metadata": {
        "colab": {
          "base_uri": "https://localhost:8080/"
        },
        "id": "nW2DCGdZHhvP",
        "outputId": "230aaa67-8a46-4071-9515-d1ec517f38f8"
      },
      "execution_count": 33,
      "outputs": [
        {
          "output_type": "stream",
          "name": "stdout",
          "text": [
            "Z Statistic: -2.38704958013144\n",
            "P Value: 0.01698420058213072\n"
          ]
        }
      ]
    },
    {
      "cell_type": "markdown",
      "source": [
        "#### **Effet Size**"
      ],
      "metadata": {
        "id": "99biafjPGbYE"
      }
    },
    {
      "cell_type": "markdown",
      "source": [
        "$$h = 2 \\cdot \\arcsin(\\sqrt{{p_1}}) - 2 \\cdot \\arcsin(\\sqrt{p_2})$$"
      ],
      "metadata": {
        "id": "CIQRb3RbGnPK"
      }
    },
    {
      "cell_type": "code",
      "source": [
        "\n",
        "h = 2 * np.arcsin( np.sqrt( sample_1_p)) - 2 * np.arcsin( np.sqrt( sample_2_p))\n",
        "print( f'Effect Size: {h}')"
      ],
      "metadata": {
        "colab": {
          "base_uri": "https://localhost:8080/"
        },
        "id": "auELq5BcGPKG",
        "outputId": "30d7ee49-74a8-41df-f09b-5406d46b15f1"
      },
      "execution_count": 32,
      "outputs": [
        {
          "output_type": "stream",
          "name": "stdout",
          "text": [
            "Effect Size: -0.10682419205209026\n"
          ]
        }
      ]
    },
    {
      "cell_type": "markdown",
      "source": [
        "**Very Weak**"
      ],
      "metadata": {
        "id": "NPvhFyFnG3dQ"
      }
    }
  ]
}