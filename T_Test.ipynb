{
  "nbformat": 4,
  "nbformat_minor": 0,
  "metadata": {
    "colab": {
      "provenance": [],
      "collapsed_sections": [
        "zPsbWag4gdGi",
        "cPIckhLAkO-Q",
        "eCWV4apLoAkx",
        "hEcuhFnin1VA",
        "FMZuG4NSveEE"
      ],
      "authorship_tag": "ABX9TyOZqrNeIMo8uZpuDNV4ypUV",
      "include_colab_link": true
    },
    "kernelspec": {
      "name": "python3",
      "display_name": "Python 3"
    },
    "language_info": {
      "name": "python"
    }
  },
  "cells": [
    {
      "cell_type": "markdown",
      "metadata": {
        "id": "view-in-github",
        "colab_type": "text"
      },
      "source": [
        "<a href=\"https://colab.research.google.com/github/basava-999/statistics/blob/main/T_Test.ipynb\" target=\"_parent\"><img src=\"https://colab.research.google.com/assets/colab-badge.svg\" alt=\"Open In Colab\"/></a>"
      ]
    },
    {
      "cell_type": "code",
      "execution_count": 1,
      "metadata": {
        "id": "Eg1IYSDhgOsO"
      },
      "outputs": [],
      "source": [
        "\n",
        "import numpy as np\n",
        "import pandas as pd\n",
        "import seaborn as sns\n",
        "import matplotlib.pyplot as plt\n",
        "import warnings\n",
        "warnings.filterwarnings('ignore')\n",
        "\n",
        "from scipy import stats"
      ]
    },
    {
      "cell_type": "markdown",
      "source": [
        "**Overview**\n",
        "\n",
        "1. **Purpose** – T-tests compare means to check if differences are statistically significant, often when population variance is unknown.\n",
        "2. **Types** – One-sample (mean vs. known value), two-sample independent (two groups), and paired (same group before/after).\n",
        "3. **Formula** – Test statistic:\n",
        "\n",
        "   $$\n",
        "   t = \\frac{\\bar{x}_1 - \\bar{x}_2}{SE}\n",
        "   $$\n",
        "\n",
        "   where $SE$ = standard error of the difference in means.\n",
        "4. **Distribution** – Uses Student’s t-distribution, which accounts for smaller samples and more variability.\n",
        "5. **Interpretation** – Compare $t$ with the critical value (or p-value) for chosen $\\alpha$; reject $H_0$ if evidence is strong enough.\n"
      ],
      "metadata": {
        "id": "Wyy-3Hc-jG45"
      }
    },
    {
      "cell_type": "markdown",
      "source": [
        "-------------------------"
      ],
      "metadata": {
        "id": "x023IqLEqytW"
      }
    },
    {
      "cell_type": "markdown",
      "source": [
        "- Level of Significance : 0.05\n",
        "- H0 : No difference\n",
        "- H1 : Significant difference"
      ],
      "metadata": {
        "id": "uvvpVDWDiJi7"
      }
    },
    {
      "cell_type": "markdown",
      "source": [
        "1. p-value approach:\n",
        "\n",
        "    - If p-value ≤ α (significance level, e.g., 0.05) → reject H₀ → significant difference.\n",
        "\n",
        "    - If p-value > α → fail to reject H₀ → no significant difference.\n",
        "\n",
        "2. Test statistic approach:\n",
        "\n",
        "    - Compare computed |t| to critical t-value from t-distribution table with appropriate degrees of freedom (df).\n",
        "\n",
        "    - If |t| > t-critical → reject H₀"
      ],
      "metadata": {
        "id": "j6D0ClgAikY0"
      }
    },
    {
      "cell_type": "markdown",
      "source": [
        "----------"
      ],
      "metadata": {
        "id": "WKz_vWNiqwqO"
      }
    },
    {
      "cell_type": "markdown",
      "source": [
        "**Cohen's $d$ Benchmark Interpretation**\n",
        "\n",
        "\\begin{array}{c|c}\n",
        "\\text{Effect Size } (d) & \\text{Interpretation} \\\\\n",
        "\\hline\n",
        "0.01 & \\text{Very Small} \\\\\n",
        "0.20 & \\text{Small} \\\\\n",
        "0.50 & \\text{Medium} \\\\\n",
        "0.80 & \\text{Large} \\\\\n",
        "1.20 & \\text{Very Large} \\\\\n",
        "2.00 & \\text{Huge}\n",
        "\\end{array}\n"
      ],
      "metadata": {
        "id": "89on4ja3kqkA"
      }
    },
    {
      "cell_type": "markdown",
      "source": [
        "**Interpretation in plain words**\n",
        "\n",
        "If d = 0.86 then,\n",
        "\n",
        "“The difference between the two groups is large in practical terms. Group 2 scores are about 0.86 standard deviations higher than Group 1.”"
      ],
      "metadata": {
        "id": "V464wZ4Wo2Od"
      }
    },
    {
      "cell_type": "markdown",
      "source": [
        "\n",
        "---\n",
        "**Small sample size**\n",
        "\n",
        "**1. Hedges’ g** (bias-corrected Cohen’s *d*)\n",
        "\n",
        "$$\n",
        "g = \\left(1 - \\frac{3}{4N - 9}\\right) \\cdot d\n",
        "$$\n",
        "\n",
        "Where:\n",
        "\n",
        "* $N = n_1 + n_2$ (total sample size)\n",
        "* $d$ = Cohen’s d\n",
        "\n",
        "---\n",
        "\n",
        "**2. Glass’s Δ** (uses control group SD)\n",
        "\n",
        "$$\n",
        "\\Delta = \\frac{\\bar{X}_1 - \\bar{X}_2}{s_c}\n",
        "$$\n",
        "\n",
        "Where:\n",
        "\n",
        "* $\\bar{X}_1$ = mean of experimental group\n",
        "* $\\bar{X}_2$ = mean of control group\n",
        "* $s_c$ = standard deviation of control group\n",
        "\n"
      ],
      "metadata": {
        "id": "YspkdwTJqgGG"
      }
    },
    {
      "cell_type": "markdown",
      "source": [
        "----------------------"
      ],
      "metadata": {
        "id": "coYlkbCBq1yy"
      }
    },
    {
      "cell_type": "markdown",
      "source": [
        "# **1 Sample T Test**"
      ],
      "metadata": {
        "id": "zPsbWag4gdGi"
      }
    },
    {
      "cell_type": "markdown",
      "source": [
        "####  **Test Calculation**"
      ],
      "metadata": {
        "id": "I1g5fyT3hRR1"
      }
    },
    {
      "cell_type": "markdown",
      "source": [
        "$$\n",
        "t = \\frac{\\bar{x} - \\mu_0}{\\frac{s}{\\sqrt{n}}}\n",
        "$$\n"
      ],
      "metadata": {
        "id": "YU6sWxMMhKET"
      }
    },
    {
      "cell_type": "markdown",
      "source": [
        "**Data**"
      ],
      "metadata": {
        "id": "q2U1G5mzhz-7"
      }
    },
    {
      "cell_type": "code",
      "source": [
        "\n",
        "sample_data = np.random.normal( 65, 6, 1000)\n",
        "\n",
        "pop_mean    = 70\n",
        "sample_mean = np.mean(sample_data)\n",
        "sample_std  = np.std(sample_data, ddof=1)\n",
        "\n",
        "n           = len( sample_data)\n",
        "\n",
        "print( f'Sample Mean    : {sample_mean}')\n",
        "print( f'Sample Var     : {sample_std}')\n",
        "print( f'Populaton Mean : {pop_mean}')\n",
        "print( f'Sample Size    : {n}')\n"
      ],
      "metadata": {
        "colab": {
          "base_uri": "https://localhost:8080/"
        },
        "id": "Y2aWhrA8gbqI",
        "outputId": "65aeb506-764a-4cf6-b5bb-008f1b34cf37"
      },
      "execution_count": 2,
      "outputs": [
        {
          "output_type": "stream",
          "name": "stdout",
          "text": [
            "Sample Mean    : 64.73329454107719\n",
            "Sample Var     : 5.857106991878859\n",
            "Populaton Mean : 70\n",
            "Sample Size    : 1000\n"
          ]
        }
      ]
    },
    {
      "cell_type": "markdown",
      "source": [
        "**Test Statistic**"
      ],
      "metadata": {
        "id": "Tv76quDlhwWP"
      }
    },
    {
      "cell_type": "code",
      "source": [
        "\n",
        "t = ( sample_mean - pop_mean) / ( sample_std / np.sqrt(n) )\n",
        "print( f'Test Statistic t : {t}')"
      ],
      "metadata": {
        "colab": {
          "base_uri": "https://localhost:8080/"
        },
        "id": "B3pKIEPrg8FG",
        "outputId": "cd78b26f-afa7-4e24-9f35-a7652333ec4a"
      },
      "execution_count": 3,
      "outputs": [
        {
          "output_type": "stream",
          "name": "stdout",
          "text": [
            "Test Statistic t : -28.43517292501413\n"
          ]
        }
      ]
    },
    {
      "cell_type": "markdown",
      "source": [
        "**Critical Value**"
      ],
      "metadata": {
        "id": "zDyeUQFVh2As"
      }
    },
    {
      "cell_type": "code",
      "source": [
        "\n",
        "critical_value = stats.t.ppf( 1 - .05/2, n-1)\n",
        "print( f'Critical Value : {critical_value}')\n"
      ],
      "metadata": {
        "colab": {
          "base_uri": "https://localhost:8080/"
        },
        "id": "aR5aciLChb5j",
        "outputId": "355e6f62-4621-4c09-9772-7ff03b6a18ca"
      },
      "execution_count": 4,
      "outputs": [
        {
          "output_type": "stream",
          "name": "stdout",
          "text": [
            "Critical Value : 1.9623414611334487\n"
          ]
        }
      ]
    },
    {
      "cell_type": "markdown",
      "source": [
        "- |t| > critical value, Hence reject H0  ( 25.74 > 1.96)\n",
        "- Significant difference exists"
      ],
      "metadata": {
        "id": "n5LRGJ-Kiz_F"
      }
    },
    {
      "cell_type": "markdown",
      "source": [
        "**P Value**"
      ],
      "metadata": {
        "id": "RSkOpVv2jKnI"
      }
    },
    {
      "cell_type": "code",
      "source": [
        "\n",
        "p = 2 * ( 1 - stats.t.cdf( abs(t), n-1))\n",
        "print( f'P Value : {p}')"
      ],
      "metadata": {
        "colab": {
          "base_uri": "https://localhost:8080/"
        },
        "id": "UpExApuPiGsg",
        "outputId": "0ee396d6-253e-4df6-f8cf-9f36d68bc484"
      },
      "execution_count": 5,
      "outputs": [
        {
          "output_type": "stream",
          "name": "stdout",
          "text": [
            "P Value : 0.0\n"
          ]
        }
      ]
    },
    {
      "cell_type": "markdown",
      "source": [
        "- P value < LOS ( 0.05 )\n",
        "- Hence reject H0"
      ],
      "metadata": {
        "id": "955a6ewJjiDx"
      }
    },
    {
      "cell_type": "markdown",
      "source": [
        "**Using in-built method**\n"
      ],
      "metadata": {
        "id": "DsLW2_ARj1Q5"
      }
    },
    {
      "cell_type": "code",
      "source": [
        "\n",
        "statistic, p_value = stats.ttest_1samp( sample_data, pop_mean)\n",
        "\n",
        "print( f'Test Statistic t : {statistic}')\n",
        "print( f'P Value          : {p_value}')"
      ],
      "metadata": {
        "colab": {
          "base_uri": "https://localhost:8080/"
        },
        "id": "iq6ezcQyjUPc",
        "outputId": "d924c2b5-6e96-4bc8-d1b5-2b9fd8be5e02"
      },
      "execution_count": 6,
      "outputs": [
        {
          "output_type": "stream",
          "name": "stdout",
          "text": [
            "Test Statistic t : -28.43517292501413\n",
            "P Value          : 8.739048695752303e-131\n"
          ]
        }
      ]
    },
    {
      "cell_type": "markdown",
      "source": [
        "#### **Effect Size Calculation**\n",
        "\n"
      ],
      "metadata": {
        "id": "TmGPJkSBhXBl"
      }
    },
    {
      "cell_type": "markdown",
      "source": [
        "$$\n",
        "d = \\frac{\\bar{x} - \\mu_0}{s}\n",
        "$$\n"
      ],
      "metadata": {
        "id": "KK6RumfxiQoe"
      }
    },
    {
      "cell_type": "code",
      "source": [
        "\n",
        "effect_size = ( sample_mean - pop_mean) / sample_std\n",
        "print( f'Effect Size : {effect_size}')"
      ],
      "metadata": {
        "id": "YQ_bTm6oh0FA",
        "colab": {
          "base_uri": "https://localhost:8080/"
        },
        "outputId": "30769f4a-6ebd-4b18-ee7f-9d01e69c89ec"
      },
      "execution_count": 7,
      "outputs": [
        {
          "output_type": "stream",
          "name": "stdout",
          "text": [
            "Effect Size : -0.8991991210379693\n"
          ]
        }
      ]
    },
    {
      "cell_type": "markdown",
      "source": [
        "**Large Effect Size**"
      ],
      "metadata": {
        "id": "CQTlic4IkXTl"
      }
    },
    {
      "cell_type": "markdown",
      "source": [
        "# **2 Sample Independent T Test**"
      ],
      "metadata": {
        "id": "cPIckhLAkO-Q"
      }
    },
    {
      "cell_type": "markdown",
      "source": [
        "### **Student T Test : Equal Variance**\n"
      ],
      "metadata": {
        "id": "eCWV4apLoAkx"
      }
    },
    {
      "cell_type": "markdown",
      "source": [
        "#### **Test Calculation**"
      ],
      "metadata": {
        "id": "4q_OQiGKmZVD"
      }
    },
    {
      "cell_type": "markdown",
      "source": [
        "\n",
        "$$\n",
        "t = \\frac{\\bar{x}_1 - \\bar{x}_2}{s_p \\sqrt{\\frac{1}{n_1} + \\frac{1}{n_2}}}\n",
        "$$\n",
        "\n",
        "$$\n",
        "s_p = \\sqrt{\\frac{(n_1 - 1)s_1^2 + (n_2 - 1)s_2^2}{n_1 + n_2 - 2}}\n",
        "$$\n"
      ],
      "metadata": {
        "id": "qJp37EHvkffk"
      }
    },
    {
      "cell_type": "markdown",
      "source": [
        "**Data**"
      ],
      "metadata": {
        "id": "tE8byRpdk7nB"
      }
    },
    {
      "cell_type": "code",
      "source": [
        "\n",
        "sample_1 = np.random.normal( 65, 6, 1000)\n",
        "sample_2 = np.random.normal( 68, 6, 1000)\n",
        "\n",
        "sample_1_mean = np.mean(sample_1)\n",
        "sample_2_mean = np.mean(sample_2)\n",
        "\n",
        "sample_1_var  = np.var(sample_1, ddof = 1)\n",
        "sample_2_var  = np.var(sample_2, ddof = 1)\n",
        "\n",
        "n1 = len(sample_1)\n",
        "n2 = len(sample_2)\n",
        "\n",
        "dof = n1 + n2 - 2\n",
        "\n",
        "print( f'Sample 1 Mean : {sample_1_mean}')\n",
        "print( f'Sample 2 Mean : {sample_2_mean}\\n')\n",
        "\n",
        "print( f'Sample 1 Var  : {sample_1_var}')\n",
        "print( f'Sample 2 Var  : {sample_2_var}\\n')\n",
        "\n",
        "print( f'Sample 1 Size : {n1}')\n",
        "print( f'Sample 2 Size : {n2}\\n')\n",
        "\n",
        "print( f'Degree of Freedom : { dof}')\n"
      ],
      "metadata": {
        "colab": {
          "base_uri": "https://localhost:8080/"
        },
        "id": "zxAMJku4kUhD",
        "outputId": "e79dd64c-5aa5-4f30-fe2b-8faff9183232"
      },
      "execution_count": 8,
      "outputs": [
        {
          "output_type": "stream",
          "name": "stdout",
          "text": [
            "Sample 1 Mean : 64.8190124456206\n",
            "Sample 2 Mean : 68.07104000361392\n",
            "\n",
            "Sample 1 Var  : 36.16765252044436\n",
            "Sample 2 Var  : 35.99034993274226\n",
            "\n",
            "Sample 1 Size : 1000\n",
            "Sample 2 Size : 1000\n",
            "\n",
            "Degree of Freedom : 1998\n"
          ]
        }
      ]
    },
    {
      "cell_type": "markdown",
      "source": [
        "**Test Statistic**"
      ],
      "metadata": {
        "id": "Gojiqnd7lZbq"
      }
    },
    {
      "cell_type": "code",
      "source": [
        "\n",
        "s_pooled = np.sqrt( ( ( n1 - 1) * sample_1_var + ( n2 - 1) * sample_2_var) / dof)\n",
        "\n",
        "t = ( sample_1_mean - sample_2_mean) / ( s_pooled * np.sqrt( 1/n1 + 1/n2))\n",
        "print( f'Test Statistic t : {t}')"
      ],
      "metadata": {
        "colab": {
          "base_uri": "https://localhost:8080/"
        },
        "id": "i_6XFX3qlUGp",
        "outputId": "a77ad93f-f56a-4854-9cbf-7bc2078a4c02"
      },
      "execution_count": 9,
      "outputs": [
        {
          "output_type": "stream",
          "name": "stdout",
          "text": [
            "Test Statistic t : -12.106314896266055\n"
          ]
        }
      ]
    },
    {
      "cell_type": "markdown",
      "source": [
        "**critical Value**"
      ],
      "metadata": {
        "id": "yev2nyH5mWbH"
      }
    },
    {
      "cell_type": "code",
      "source": [
        "\n",
        "critical_value = stats.t.ppf( 1 - .05/2, dof)\n",
        "print( f'Critical Value : {critical_value}')\n"
      ],
      "metadata": {
        "colab": {
          "base_uri": "https://localhost:8080/"
        },
        "id": "IWp8DVeMmULH",
        "outputId": "9a782623-adfc-4a5a-f1fb-1ae9c0d727c1"
      },
      "execution_count": 10,
      "outputs": [
        {
          "output_type": "stream",
          "name": "stdout",
          "text": [
            "Critical Value : 1.9611520148367056\n"
          ]
        }
      ]
    },
    {
      "cell_type": "markdown",
      "source": [
        "- |t| > critical value, reject H0\n",
        "- Significant difference"
      ],
      "metadata": {
        "id": "AEEAV4BhmrPQ"
      }
    },
    {
      "cell_type": "markdown",
      "source": [
        "**P - Value**"
      ],
      "metadata": {
        "id": "cQnkBB0em1Di"
      }
    },
    {
      "cell_type": "code",
      "source": [
        "\n",
        "p = 2*( 1 - stats.t.cdf( abs( t), dof ))\n",
        "print( f'P Value : {p}')"
      ],
      "metadata": {
        "colab": {
          "base_uri": "https://localhost:8080/"
        },
        "id": "K1cyWBVJmgB9",
        "outputId": "b3ece699-3aaf-4781-9714-9a2d64d296f8"
      },
      "execution_count": 11,
      "outputs": [
        {
          "output_type": "stream",
          "name": "stdout",
          "text": [
            "P Value : 0.0\n"
          ]
        }
      ]
    },
    {
      "cell_type": "markdown",
      "source": [
        "- P value < LOS\n",
        "- Reject H0"
      ],
      "metadata": {
        "id": "RGFOyeQfngld"
      }
    },
    {
      "cell_type": "markdown",
      "source": [
        "**In-built using scipy**"
      ],
      "metadata": {
        "id": "Vu-bfNMds7ui"
      }
    },
    {
      "cell_type": "code",
      "source": [
        "\n",
        "statistic, p_value = stats.ttest_ind( sample_1, sample_2, equal_var = True)\n",
        "\n",
        "print( f'Test Statistic t : {statistic}')\n",
        "print( f'P Value          : {p_value}')"
      ],
      "metadata": {
        "colab": {
          "base_uri": "https://localhost:8080/"
        },
        "id": "z2p1ALwttA4b",
        "outputId": "9ae29b97-9959-41b3-fc60-e05fdbb72c93"
      },
      "execution_count": 12,
      "outputs": [
        {
          "output_type": "stream",
          "name": "stdout",
          "text": [
            "Test Statistic t : -12.106314896266055\n",
            "P Value          : 1.3145603823342704e-32\n"
          ]
        }
      ]
    },
    {
      "cell_type": "markdown",
      "source": [
        "#### **Effect Size**"
      ],
      "metadata": {
        "id": "uf0uvETDmoEj"
      }
    },
    {
      "cell_type": "markdown",
      "source": [
        "$$\n",
        "d = \\frac{\\bar{x}_1 - \\bar{x}_2}{s_p}\n",
        "$$\n",
        "\n",
        "$$\n",
        "s_p = \\sqrt{\\frac{(n_1 - 1)s_1^2 + (n_2 - 1)s_2^2}{n_1 + n_2 - 2}}\n",
        "$$"
      ],
      "metadata": {
        "id": "iFcLeEwTmzoY"
      }
    },
    {
      "cell_type": "code",
      "source": [
        "\n",
        "effect_size = ( sample_1_mean - sample_2_mean) / s_pooled\n",
        "print( f'Effect Size : {effect_size}')"
      ],
      "metadata": {
        "colab": {
          "base_uri": "https://localhost:8080/"
        },
        "id": "ti7YliP0mql_",
        "outputId": "6ccf0454-14d4-496d-db0b-235b1a482aa0"
      },
      "execution_count": 13,
      "outputs": [
        {
          "output_type": "stream",
          "name": "stdout",
          "text": [
            "Effect Size : -0.5414108613013843\n"
          ]
        }
      ]
    },
    {
      "cell_type": "markdown",
      "source": [
        "**Moderate to Strong**"
      ],
      "metadata": {
        "id": "YSNONrt5m0EO"
      }
    },
    {
      "cell_type": "markdown",
      "source": [
        "### **Welch T Test : Un-equal Variance**"
      ],
      "metadata": {
        "id": "hEcuhFnin1VA"
      }
    },
    {
      "cell_type": "markdown",
      "source": [
        "#### **Test Calculation**"
      ],
      "metadata": {
        "id": "b8ICQkV6nZiO"
      }
    },
    {
      "cell_type": "markdown",
      "source": [
        "$$\n",
        "t = \\frac{\\bar{x}_1 - \\bar{x}_2}{\\sqrt{\\frac{s_1^2}{n_1} + \\frac{s_2^2}{n_2}}}\n",
        "$$\n",
        "\n",
        "$$\n",
        "df = \\frac{\\left( \\frac{s_1^2}{n_1} + \\frac{s_2^2}{n_2} \\right)^2}\n",
        "{\\frac{\\left( \\frac{s_1^2}{n_1} \\right)^2}{n_1 - 1} + \\frac{\\left( \\frac{s_2^2}{n_2} \\right)^2}{n_2 - 1}}\n",
        "$$\n"
      ],
      "metadata": {
        "id": "PgdiKKGwoSUa"
      }
    },
    {
      "cell_type": "markdown",
      "source": [
        "**Data**"
      ],
      "metadata": {
        "id": "TnEx_f-9rqx5"
      }
    },
    {
      "cell_type": "code",
      "source": [
        "\n",
        "sample_1 = np.random.normal( 65, 6, 1000)\n",
        "sample_2 = np.random.normal( 68, 4, 1000)\n",
        "\n",
        "sample_1_mean = np.mean(sample_1)\n",
        "sample_2_mean = np.mean(sample_2)\n",
        "\n",
        "sample_1_var  = np.var(sample_1, ddof = 1)\n",
        "sample_2_var  = np.var(sample_2, ddof = 1)\n",
        "\n",
        "n1 = len(sample_1)\n",
        "n2 = len(sample_2)\n",
        "\n",
        "dof_nume = np.square( sample_1_var/n1 + sample_2_var/n2)\n",
        "dof_deno = ( sample_1_var/n1 )**2 / ( n1 - 1) + (sample_2_var/n2)**2 / ( n2 - 1)\n",
        "\n",
        "dof = dof_nume / dof_deno\n",
        "\n",
        "print( f'Sample 1 Mean : {sample_1_mean}')\n",
        "print( f'Sample 2 Mean : {sample_2_mean}\\n')\n",
        "\n",
        "print( f'Sample 1 Var  : {sample_1_var}')\n",
        "print( f'Sample 2 Var  : {sample_2_var}\\n')\n",
        "\n",
        "print( f'Sample 1 Size : {n1}')\n",
        "print( f'Sample 2 Size : {n2}\\n')\n",
        "\n",
        "print( f'Degree of Freedom : { dof}')\n",
        "\n"
      ],
      "metadata": {
        "colab": {
          "base_uri": "https://localhost:8080/"
        },
        "id": "sTrFpLf3rjeS",
        "outputId": "895f8968-c602-4636-c718-b160836450ab"
      },
      "execution_count": 14,
      "outputs": [
        {
          "output_type": "stream",
          "name": "stdout",
          "text": [
            "Sample 1 Mean : 65.11849349657116\n",
            "Sample 2 Mean : 68.01703555473777\n",
            "\n",
            "Sample 1 Var  : 33.97795952285103\n",
            "Sample 2 Var  : 17.40527462041339\n",
            "\n",
            "Sample 1 Size : 1000\n",
            "Sample 2 Size : 1000\n",
            "\n",
            "Degree of Freedom : 1809.7396051765263\n"
          ]
        }
      ]
    },
    {
      "cell_type": "markdown",
      "source": [
        "**Test Statistic**"
      ],
      "metadata": {
        "id": "z_qNXNUFslGT"
      }
    },
    {
      "cell_type": "code",
      "source": [
        "\n",
        "t = ( sample_1_mean - sample_2_mean) / np.sqrt( sample_1_var / n1 + sample_2_var/n2)\n",
        "print( f'Test Statistic t : {t}')"
      ],
      "metadata": {
        "colab": {
          "base_uri": "https://localhost:8080/"
        },
        "id": "xqHtz_iGn5sv",
        "outputId": "fbd91d66-699b-4b21-aae6-898b42bac41d"
      },
      "execution_count": 15,
      "outputs": [
        {
          "output_type": "stream",
          "name": "stdout",
          "text": [
            "Test Statistic t : -12.78700657305215\n"
          ]
        }
      ]
    },
    {
      "cell_type": "markdown",
      "source": [
        "**critical Value**"
      ],
      "metadata": {
        "id": "DXDG5nRAtTZZ"
      }
    },
    {
      "cell_type": "code",
      "source": [
        "\n",
        "critical_value = stats.t.ppf( 1 - .05/2, dof)\n",
        "print( f'Critical Value : {critical_value}')"
      ],
      "metadata": {
        "colab": {
          "base_uri": "https://localhost:8080/"
        },
        "id": "2M97CiYRs4HT",
        "outputId": "6212d8b1-643c-4631-98c8-fc6d80ac88aa"
      },
      "execution_count": 16,
      "outputs": [
        {
          "output_type": "stream",
          "name": "stdout",
          "text": [
            "Critical Value : 1.9612756824329578\n"
          ]
        }
      ]
    },
    {
      "cell_type": "markdown",
      "source": [
        "- |t| > critical value, Reject H0\n",
        "- significant difference\n"
      ],
      "metadata": {
        "id": "5r_zociDupnU"
      }
    },
    {
      "cell_type": "markdown",
      "source": [
        "**P Value**"
      ],
      "metadata": {
        "id": "J39IKQZOu64B"
      }
    },
    {
      "cell_type": "code",
      "source": [
        "\n",
        "p = 2 * ( 1 - stats.t.cdf( abs(t), dof))\n",
        "print( f'P Value : {p}')"
      ],
      "metadata": {
        "colab": {
          "base_uri": "https://localhost:8080/"
        },
        "id": "tXICp1_VtYCA",
        "outputId": "baf8fac9-1dc4-4e62-91bd-dfedf9219e34"
      },
      "execution_count": 17,
      "outputs": [
        {
          "output_type": "stream",
          "name": "stdout",
          "text": [
            "P Value : 0.0\n"
          ]
        }
      ]
    },
    {
      "cell_type": "markdown",
      "source": [
        "- p < LOS, reject H0"
      ],
      "metadata": {
        "id": "fBA1IaquvG5K"
      }
    },
    {
      "cell_type": "markdown",
      "source": [
        "**In Built Method**"
      ],
      "metadata": {
        "id": "c7Gz9wWJvOn8"
      }
    },
    {
      "cell_type": "code",
      "source": [
        "\n",
        "statistic, p_value = stats.ttest_ind( sample_1, sample_2, equal_var = False)\n",
        "\n",
        "print( f'Test Statistic t : {statistic}')\n",
        "print( f'P Value          : {p_value}')\n"
      ],
      "metadata": {
        "colab": {
          "base_uri": "https://localhost:8080/"
        },
        "id": "SO_NQ_u_vGFA",
        "outputId": "dd606406-9712-4a0a-aa18-314f8c3e4c72"
      },
      "execution_count": 18,
      "outputs": [
        {
          "output_type": "stream",
          "name": "stdout",
          "text": [
            "Test Statistic t : -12.78700657305215\n",
            "P Value          : 6.599201745804631e-36\n"
          ]
        }
      ]
    },
    {
      "cell_type": "markdown",
      "source": [
        "#### **Effect Size**"
      ],
      "metadata": {
        "id": "Mt8Ey96MnjOd"
      }
    },
    {
      "cell_type": "markdown",
      "source": [
        "$$\n",
        "d = \\frac{\\bar{x}_1 - \\bar{x}_2}{\\sqrt{\\frac{s_1^2 + s_2^2}{2}}}\n",
        "$$"
      ],
      "metadata": {
        "id": "Yi_UbrZGny4t"
      }
    },
    {
      "cell_type": "code",
      "source": [
        "\n",
        "effect_size = ( sample_1_mean - sample_2_mean) / np.sqrt( (sample_1_var + sample_2_var ) / 2 )\n",
        "print( f'Effect Size : {effect_size}')"
      ],
      "metadata": {
        "id": "fZmXguGrvTGE",
        "colab": {
          "base_uri": "https://localhost:8080/"
        },
        "outputId": "fd0cffaf-ea6d-4e25-d8d2-2fd25eeed476"
      },
      "execution_count": 19,
      "outputs": [
        {
          "output_type": "stream",
          "name": "stdout",
          "text": [
            "Effect Size : -0.5718523185216247\n"
          ]
        }
      ]
    },
    {
      "cell_type": "markdown",
      "source": [
        "**Moderate to Strong**"
      ],
      "metadata": {
        "id": "JBbb-fNAn5cH"
      }
    },
    {
      "cell_type": "markdown",
      "source": [
        "# **Paired T Test**"
      ],
      "metadata": {
        "id": "FMZuG4NSveEE"
      }
    },
    {
      "cell_type": "markdown",
      "source": [
        "####**Test Calculation**"
      ],
      "metadata": {
        "id": "U1SRAi1wm6FY"
      }
    },
    {
      "cell_type": "markdown",
      "source": [
        "$$\n",
        "t = \\frac{\\bar{d}}{ \\frac{s_d}{\\sqrt{n}} }\n",
        "$$\n",
        "\n",
        "where\n",
        "\n",
        "$$\n",
        "s_d = \\sqrt{\\frac{\\sum_{i=1}^{n} (d_i - \\bar{d})^2}{n-1}}\n",
        "$$"
      ],
      "metadata": {
        "id": "7pdop7JjcBy_"
      }
    },
    {
      "cell_type": "markdown",
      "source": [
        "**Data**"
      ],
      "metadata": {
        "id": "nK04VPuTchPI"
      }
    },
    {
      "cell_type": "code",
      "source": [
        "\n",
        "before = np.random.normal( 65, 10, 1000)\n",
        "after  = before + np.random.normal( 3, 5, 1000)\n",
        "\n",
        "difference = after - before\n",
        "\n",
        "diff_mean = np.mean( difference)\n",
        "diff_std  = np.std( difference, ddof = 1)\n",
        "n         = len( difference)\n",
        "\n",
        "print( f'Mean Difference : {diff_mean}')\n",
        "print( f'Std Difference  : {diff_std}')\n",
        "print( f'Sample Size     : {n}')\n",
        "\n"
      ],
      "metadata": {
        "colab": {
          "base_uri": "https://localhost:8080/"
        },
        "id": "SwMXILOlvg1D",
        "outputId": "72ae8fc0-4939-4938-a976-75afaf787b87"
      },
      "execution_count": 20,
      "outputs": [
        {
          "output_type": "stream",
          "name": "stdout",
          "text": [
            "Mean Difference : 2.629367218579415\n",
            "Std Difference  : 5.057000477426535\n",
            "Sample Size     : 1000\n"
          ]
        }
      ]
    },
    {
      "cell_type": "markdown",
      "source": [
        "**Test Statistic**"
      ],
      "metadata": {
        "id": "25AVd0IedaG7"
      }
    },
    {
      "cell_type": "code",
      "source": [
        "\n",
        "t = diff_mean / ( diff_std / np.sqrt(n))\n",
        "print( f'Test Statistic t : {t}')"
      ],
      "metadata": {
        "colab": {
          "base_uri": "https://localhost:8080/"
        },
        "id": "z4wbJYE5dUfd",
        "outputId": "77c51384-1873-4f8d-85e7-389e55335367"
      },
      "execution_count": 21,
      "outputs": [
        {
          "output_type": "stream",
          "name": "stdout",
          "text": [
            "Test Statistic t : 16.442136505243276\n"
          ]
        }
      ]
    },
    {
      "cell_type": "markdown",
      "source": [
        "**critical value**"
      ],
      "metadata": {
        "id": "mb4V-SzLdnJz"
      }
    },
    {
      "cell_type": "code",
      "source": [
        "\n",
        "critical_value = stats.t.ppf( 1 - .05/2, n-1)\n",
        "print( f'Critical Value : {critical_value}')"
      ],
      "metadata": {
        "colab": {
          "base_uri": "https://localhost:8080/"
        },
        "id": "4W933U2zdjUZ",
        "outputId": "0d1e0edf-973d-4211-819e-c4eac3eac96d"
      },
      "execution_count": 22,
      "outputs": [
        {
          "output_type": "stream",
          "name": "stdout",
          "text": [
            "Critical Value : 1.9623414611334487\n"
          ]
        }
      ]
    },
    {
      "cell_type": "markdown",
      "source": [
        "- |t| > critical value, reject H0\n",
        "- Difference if far away from 0\n"
      ],
      "metadata": {
        "id": "RHAY07ZueN5K"
      }
    },
    {
      "cell_type": "markdown",
      "source": [
        "**P value**"
      ],
      "metadata": {
        "id": "4623zL_feZax"
      }
    },
    {
      "cell_type": "code",
      "source": [
        "\n",
        "p = 2 * ( 1 - stats.t.cdf( t, n-1))\n",
        "print( f'P Value : {p}')\n"
      ],
      "metadata": {
        "colab": {
          "base_uri": "https://localhost:8080/"
        },
        "id": "YbxFgBYpdwa1",
        "outputId": "e83f3e20-0f9c-4f12-8b13-4ec773c6e7bc"
      },
      "execution_count": 23,
      "outputs": [
        {
          "output_type": "stream",
          "name": "stdout",
          "text": [
            "P Value : 0.0\n"
          ]
        }
      ]
    },
    {
      "cell_type": "markdown",
      "source": [
        "- P value < LOS\n",
        "- Reject H0"
      ],
      "metadata": {
        "id": "n4EHJ9lwewGV"
      }
    },
    {
      "cell_type": "markdown",
      "source": [
        "**Built In**"
      ],
      "metadata": {
        "id": "OuBS6vmPe1yX"
      }
    },
    {
      "cell_type": "code",
      "source": [
        "\n",
        "statistic, p = stats.ttest_rel( before, after)\n",
        "\n",
        "print( f'Test Statistic t : {statistic}')\n",
        "print( f'P Value          : {p}')"
      ],
      "metadata": {
        "colab": {
          "base_uri": "https://localhost:8080/"
        },
        "id": "UXC63UHwenP8",
        "outputId": "02c99a38-31a2-463a-b7ed-e33d2b34beba"
      },
      "execution_count": 24,
      "outputs": [
        {
          "output_type": "stream",
          "name": "stdout",
          "text": [
            "Test Statistic t : -16.44213650524328\n",
            "P Value          : 6.045054387679889e-54\n"
          ]
        }
      ]
    },
    {
      "cell_type": "markdown",
      "source": [
        "#### **Effect Size**"
      ],
      "metadata": {
        "id": "PYVDA2zyoKyQ"
      }
    },
    {
      "cell_type": "markdown",
      "source": [
        "$$\n",
        "d = \\frac{\\bar{d}}{s_d}\n",
        "$$"
      ],
      "metadata": {
        "id": "P8TSHhVEoNXY"
      }
    },
    {
      "cell_type": "code",
      "source": [
        "\n",
        "effect_size = diff_mean / diff_std\n",
        "print( f'Effect Size : {effect_size}')"
      ],
      "metadata": {
        "colab": {
          "base_uri": "https://localhost:8080/"
        },
        "id": "6rXkuTeEoSF3",
        "outputId": "26d65231-2fc2-4e4d-8775-4d8f80db354f"
      },
      "execution_count": 25,
      "outputs": [
        {
          "output_type": "stream",
          "name": "stdout",
          "text": [
            "Effect Size : 0.519946009559698\n"
          ]
        }
      ]
    },
    {
      "cell_type": "markdown",
      "source": [
        "**Moderate to Strong**"
      ],
      "metadata": {
        "id": "BofDZ-AUoVhg"
      }
    },
    {
      "cell_type": "code",
      "source": [
        "\n",
        "import matplotlib.pyplot as plt\n",
        "from scipy.stats import norm, t\n",
        "\n",
        "\n",
        "alpha = 0.05              # significance level\n",
        "test_statistic = 1.57     # your calculated t or z statistic - sample example value taken\n",
        "tails = 2                 # 1 for one-tailed, 2 for two-tailed\n",
        "\n",
        "x = np.linspace(-4, 4, 1000)\n",
        "y = norm.pdf(x, 0, 1)  # standard normal\n",
        "\n",
        "\n",
        "if tails == 2:\n",
        "    critical_value = norm.ppf(1 - alpha/2)\n",
        "    crit_vals = [-critical_value, critical_value]\n",
        "else:\n",
        "    critical_value = norm.ppf(1 - alpha)\n",
        "    crit_vals = [critical_value]  # right tail\n",
        "    # For left tail test, use norm.ppf(alpha)\n",
        "\n",
        "plt.figure(figsize=(8,5))\n",
        "plt.plot(x, y, label='Standard Normal Curve')\n",
        "\n",
        "\n",
        "if tails == 2:\n",
        "    plt.fill_between(x, y, 0, where=(x <= crit_vals[0]) | (x >= crit_vals[1]), color='red', alpha=0.3, label='Rejection Region')\n",
        "else:\n",
        "    plt.fill_between(x, y, 0, where=(x >= crit_vals[0]), color='red', alpha=0.3, label='Rejection Region')\n",
        "\n",
        "plt.axvline(test_statistic, color='blue', linestyle='--', linewidth=2, label=f'Test Statistic = {test_statistic:.2f}')\n",
        "\n",
        "for cv in crit_vals:\n",
        "    plt.axvline(cv, color='green', linestyle='--', linewidth=2, label=f'Critical Value = {cv:.2f}')\n",
        "\n",
        "plt.title('Hypothesis Test: Bell Curve with Critical Region')\n",
        "plt.xlabel('Z / T value')\n",
        "plt.ylabel('Probability Density')\n",
        "plt.legend()\n",
        "plt.grid(True)\n",
        "plt.show()\n"
      ],
      "metadata": {
        "colab": {
          "base_uri": "https://localhost:8080/",
          "height": 487
        },
        "id": "dDjKoQ-Vf4Xg",
        "outputId": "c22675e4-7faa-4b23-8183-e6066bfaf9fa"
      },
      "execution_count": 26,
      "outputs": [
        {
          "output_type": "display_data",
          "data": {
            "text/plain": [
              "<Figure size 800x500 with 1 Axes>"
            ],
            "image/png": "[encoded data removed]"
          },
          "metadata": {}
        }
      ]
    }
  ]
}